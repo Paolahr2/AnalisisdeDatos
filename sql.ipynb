{
 "cells": [
  {
   "cell_type": "code",
   "execution_count": null,
   "metadata": {},
   "outputs": [],
   "source": [
    "#Pregunta 1: ¿Cuál es el ingreso total generado por el negocio?\n",
    "import sqlite3\n",
    "import pandas as pd\n",
    "\n",
    "\n",
    "conexion = sqlite3.connect('./Datos/sanoyfresco.db')\n",
    "\n",
    "total_ventas = pd.read_sql_query(\"\"\"SELECT SUM(precio_total) AS ingreso_total FROM tickets\"\"\", conexion)\n",
    "print(f\" Ingreso total genersdo por el negocio es: {total_ventas['ingreso_total'][0]:,.2f}\")\n",
    "\n",
    "conexion.close()"
   ]
  },
  {
   "cell_type": "code",
   "execution_count": null,
   "metadata": {},
   "outputs": [],
   "source": []
  },
  {
   "cell_type": "code",
   "execution_count": null,
   "metadata": {},
   "outputs": [],
   "source": [
    "#Pregunta 2: ¿Cómo ha sido la tendencia de ingresos mensuales?\n",
    "conexion = sqlite3.connect('./Datos/sanoyfresco.db')\n",
    "\n",
    "tendencia_ventas = pd.read_sql_query(\"\"\"SELECT strftime('%Y-%m', fecha) AS mes, SUM(precio_total) AS ingresos_mensuales\n",
    "                                        FROM tickets    \n",
    "                                        GROUP BY mes\n",
    "                                        ORDER BY mes\"\"\", conexion)\n",
    "print(\"\\nTendencia de ingresos mensuales\") \n",
    "print(tendencia_ventas)\n",
    "\n",
    "conexion.close()\n",
    "\n"
   ]
  },
  {
   "cell_type": "code",
   "execution_count": null,
   "metadata": {},
   "outputs": [],
   "source": [
    "#Pregunta 3: ¿Cuál es el rendimiento de cada departamento en términos de ventas?\n",
    "import sqlite3\n",
    "import pandas as pd  # Importar pandas\n",
    "\n",
    "conexion = sqlite3.connect('./Datos/sanoyfresco.db')\n",
    "\n",
    "rendimiento_departamento = pd.read_sql_query(\"\"\"\n",
    "    SELECT id_departamento AS departamento, SUM(precio_total) AS ingresos_departamento\n",
    "    FROM tickets\n",
    "    GROUP BY id_departamento\n",
    "    ORDER BY ingresos_departamento DESC\n",
    "\"\"\", conexion)\n",
    "\n",
    "print(\"\\nRendimiento de cada departamento en términos de ventas\")\n",
    "print(rendimiento_departamento)\n",
    "\n",
    "conexion.close()"
   ]
  },
  {
   "cell_type": "code",
   "execution_count": null,
   "metadata": {},
   "outputs": [],
   "source": [
    "#Pregunta 4: ¿Cómo se distribuyen las ventas entre las diferentes secciones?ç\n",
    "import sqlite3\n",
    "import pandas as pd\n",
    "\n",
    "conexion = sqlite3.connect('./Datos/sanoyfresco.db')\n",
    "\n",
    "distribucion_secciones = pd.read_sql_query(\"\"\"\n",
    "    SELECT id_seccion AS seccion, SUM(precio_total) AS ingresos_seccion\n",
    "    FROM tickets\n",
    "    GROUP BY id_seccion\n",
    "    ORDER BY ingresos_seccion DESC\n",
    "\"\"\", conexion)\n",
    "\n",
    "print(\"\\nDistribución de ventas entre las diferentes secciones\")\n",
    "print(distribucion_secciones)\n",
    "\n",
    "conexion.close()\n"
   ]
  },
  {
   "cell_type": "code",
   "execution_count": null,
   "metadata": {},
   "outputs": [],
   "source": [
    "#Pregunta 5: ¿Cuáles son los 10 productos más vendidos en cantidad y con nombre?\n",
    "import sqlite3\n",
    "import pandas as pd\n",
    "\n",
    "conexion = sqlite3.connect('./Datos/sanoyfresco.db')\n",
    "\n",
    "productos_mas_vendidos = pd.read_sql_query(\"\"\"\n",
    "    SELECT id_producto, nombre_producto, SUM(cantidad) AS cantidad_vendida\n",
    "    FROM tickets\n",
    "    GROUP BY id_producto\n",
    "    ORDER BY cantidad_vendida DESC\n",
    "    LIMIT 10\"\"\", conexion)\n",
    "\n",
    "print(\"\\nLos 10 productos más vendidos \")\n",
    "print(productos_mas_vendidos)\n",
    "\n",
    "conexion.close()\n"
   ]
  },
  {
   "cell_type": "code",
   "execution_count": null,
   "metadata": {},
   "outputs": [],
   "source": [
    "#Pregunta 6: ¿Qué 10 productos generan más ingresos?\n",
    "\n",
    "import sqlite3\n",
    "import pandas as pd\n",
    "\n",
    "conexion = sqlite3.connect('./Datos/sanoyfresco.db')\n",
    "\n",
    "\n",
    "productos_ingresos = pd.read_sql_query(\"\"\"\n",
    "    SELECT id_producto, nombre_producto, SUM(precio_total) AS ingresos_generados\n",
    "    FROM tickets\n",
    "    GROUP BY id_producto\n",
    "    ORDER BY ingresos_generados DESC\n",
    "    LIMIT 10\"\"\", conexion)\n",
    "\n",
    "print(\"\\nLos 10 productos que generan más ingresos\")\n",
    "print(productos_ingresos)\n",
    "\n",
    "conexion.close()"
   ]
  },
  {
   "cell_type": "code",
   "execution_count": null,
   "metadata": {},
   "outputs": [],
   "source": [
    "#Pregunta 7: ¿Quiénes son los 20 clientes que más compran en términos de ingresos?\n",
    "\n",
    "import sqlite3\n",
    "import pandas as pd\n",
    "\n",
    "conexion = sqlite3.connect('./Datos/sanoyfresco.db')\n",
    "\n",
    "clientes_ingresos = pd.read_sql_query(\"\"\"\n",
    "    SELECT id_cliente, SUM(precio_total) AS ingresos_generados\n",
    "    FROM tickets\n",
    "    GROUP BY id_cliente\n",
    "    ORDER BY ingresos_generados DESC\n",
    "    LIMIT 20\"\"\", conexion)\n",
    "\n",
    "print(\"\\nLos 20 clientes que más compran en términos de ingresos\")\n",
    "print(clientes_ingresos)\n",
    "\n",
    "conexion.close()\n"
   ]
  },
  {
   "cell_type": "code",
   "execution_count": null,
   "metadata": {},
   "outputs": [],
   "source": [
    "#Pregunta 8: ¿Cuál es la compra media por cliente?\n",
    "import sqlite3\n",
    "import pandas as pd\n",
    "\n",
    "conexion = sqlite3.connect('./Datos/sanoyfresco.db')\n",
    "\n",
    "compra_media_cliente = pd.read_sql_query(\"\"\"\n",
    "    SELECT AVG(compra_total) AS compra_media_por_cliente\n",
    "    FROM (\n",
    "        SELECT id_cliente, SUM(precio_total) AS compra_total\n",
    "        FROM tickets\n",
    "        GROUP BY id_cliente\n",
    "    )\n",
    "\"\"\", conexion)\n",
    "\n",
    "print(\"\\nPregunta 8: Compra media por cliente\")\n",
    "print(f\"{compra_media_cliente.iloc[0, 0]:.2f} €\")\n",
    "\n",
    "conexion.close()\n"
   ]
  },
  {
   "cell_type": "code",
   "execution_count": null,
   "metadata": {},
   "outputs": [],
   "source": [
    "#Pregunta 9: ¿Cuántos pedidos totales se han realizado?\n",
    "import sqlite3\n",
    "import pandas as pd\n",
    "\n",
    "\n",
    "conexion = sqlite3.connect('./Datos/sanoyfresco.db')\n",
    "\n",
    "\n",
    "total_pedidos = pd.read_sql_query(\"\"\"\n",
    "    SELECT COUNT(DISTINCT id_pedido) AS total_pedidos\n",
    "    FROM tickets;\n",
    "\"\"\", conexion)\n",
    "\n",
    "\n",
    "print(\"\\nNúmero total de pedidos:\")\n",
    "print(total_pedidos.iloc[0, 0])\n",
    "\n",
    "\n",
    "conexion.close()"
   ]
  },
  {
   "cell_type": "code",
   "execution_count": null,
   "metadata": {},
   "outputs": [],
   "source": [
    "#Pregunta 10: ¿Cuál es el valor promedio por pedido?\n",
    "import sqlite3\n",
    "import pandas as pd\n",
    "\n",
    "conexion = sqlite3.connect('./Datos/sanoyfresco.db')\n",
    "\n",
    "\n",
    "consulta = \"\"\"\n",
    "    SELECT ROUND(SUM(precio_total) / COUNT(DISTINCT id_pedido), 2) AS valor_promedio_por_pedido\n",
    "    FROM tickets;\n",
    "\"\"\"\n",
    "\n",
    "resultado = pd.read_sql_query(consulta, conexion)\n",
    "\n",
    "print(\"\\nValor promedio por pedido:\")\n",
    "print(resultado.iloc[0, 0])\n",
    "\n",
    "conexion.close()\n",
    "\n"
   ]
  },
  {
   "cell_type": "code",
   "execution_count": null,
   "metadata": {},
   "outputs": [],
   "source": []
  }
 ],
 "metadata": {
  "kernelspec": {
   "display_name": "venv",
   "language": "python",
   "name": "python3"
  },
  "language_info": {
   "codemirror_mode": {
    "name": "ipython",
    "version": 3
   },
   "file_extension": ".py",
   "mimetype": "text/x-python",
   "name": "python",
   "nbconvert_exporter": "python",
   "pygments_lexer": "ipython3",
   "version": "3.12.6"
  }
 },
 "nbformat": 4,
 "nbformat_minor": 2
}
